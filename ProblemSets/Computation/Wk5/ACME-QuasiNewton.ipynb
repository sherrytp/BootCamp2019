{
 "cells": [
  {
   "cell_type": "markdown",
   "metadata": {},
   "source": [
    "## Computation ACME-Pandas\n",
    "### 12. Newton and Quasi-Newton Methods\n",
    "\n",
    "\n",
    "* #### August 2, 2019\n",
    "* #### SP Tian "
   ]
  },
  {
   "cell_type": "code",
   "execution_count": null,
   "metadata": {},
   "outputs": [],
   "source": [
    "# Import packages and set up \n",
    "\n",
    "import numpy as np \n",
    "from scipy import linalg as la \n",
    "import sympy as sy \n",
    "from matplotlib import pyplot as plt \n",
    "%matplotlib inline \n"
   ]
  }
 ],
 "metadata": {
  "kernelspec": {
   "display_name": "Python 3",
   "language": "python",
   "name": "python3"
  },
  "language_info": {
   "codemirror_mode": {
    "name": "ipython",
    "version": 3
   },
   "file_extension": ".py",
   "mimetype": "text/x-python",
   "name": "python",
   "nbconvert_exporter": "python",
   "pygments_lexer": "ipython3",
   "version": "3.7.3"
  }
 },
 "nbformat": 4,
 "nbformat_minor": 2
}
