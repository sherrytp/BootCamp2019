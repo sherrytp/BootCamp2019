{
 "cells": [
  {
   "cell_type": "markdown",
   "metadata": {},
   "source": [
    "## Computation ACME-Exceptions IO \n",
    "### 6. Exceptions and File Input/Output \n",
    "\n",
    "\n",
    "* #### July 3, 2019\n",
    "* #### Sherry Peng Tian "
   ]
  },
  {
   "cell_type": "markdown",
   "metadata": {},
   "source": [
    "### Problem 1 "
   ]
  },
  {
   "cell_type": "code",
   "execution_count": 1,
   "metadata": {},
   "outputs": [],
   "source": [
    "def arthmargic(): \n",
    "    step_1 = input(\"Enter a 3-digit number where the first and last \"\n",
    "                  \"digits differ by 2 or more: \")\n",
    "    if len(step_1) != 3: \n",
    "        raise ValueError(\"Input needs to be a 3-digit number.\")\n",
    "    if int(step_1[2]) - int(step_1[0]) < 2: \n",
    "        raise ValueError(\"The first number's first and last digits differ by less than 2. \")\n",
    "    step_2 = input(\"Enter the reverse of the first number, obtained \"\n",
    "                  \"by reading it backwards: \")\n",
    "\n",
    "    def reverse_num(n): \n",
    "        reverse = 0    \n",
    "        while(n > 0):    \n",
    "            reminder = n %10    \n",
    "            reverse = (reverse *10) + reminder    \n",
    "            n = n //10 \n",
    "        return reverse\n",
    "\n",
    "    if reverse_num(int(step_1)) != int(step_2): \n",
    "        raise ValueError(\"The second number is not the reverse of the first number. \")\n",
    "    \n",
    "    step_3 = input(\"Enter the positive difference of these numbers: \")\n",
    "    if int(step_3) != abs(int(step_2) - int(step_1)): \n",
    "        raise ValueError(\"The third number is not the positive difference of the first two numbers. \")\n",
    "    step_4 = input(\"Enter the reverse of the previous result: \")\n",
    "    if reverse_num(int(step_3)) != int(step_4): \n",
    "        raise ValueError(\"The fourth number is not the reverse of the third number. \")\n",
    "    \n",
    "    print(str(step_3), \"+\", str(step_4), \"= 1089 (ta-da!)\")\n"
   ]
  },
  {
   "cell_type": "code",
   "execution_count": 2,
   "metadata": {},
   "outputs": [
    {
     "name": "stdout",
     "output_type": "stream",
     "text": [
      "Enter a 3-digit number where the first and last digits differ by 2 or more: 123\n",
      "Enter the reverse of the first number, obtained by reading it backwards: 321\n",
      "Enter the positive difference of these numbers: 198\n",
      "Enter the reverse of the previous result: 891\n",
      "198 + 891 = 1089 (ta-da!)\n"
     ]
    }
   ],
   "source": [
    "arthmargic()"
   ]
  },
  {
   "cell_type": "markdown",
   "metadata": {},
   "source": [
    "### Problem 2"
   ]
  },
  {
   "cell_type": "code",
   "execution_count": 3,
   "metadata": {},
   "outputs": [],
   "source": [
    "from random import choice \n",
    "\n",
    "def random_walk(max_iters=1e12): \n",
    "    walk = 0\n",
    "    directions = [1, -1]\n",
    "    try: \n",
    "        for i in range(int(max_iters)): \n",
    "            walk += choice(directions)\n",
    "\n",
    "    except KeyboardInterrupt: \n",
    "        print(\"Process interrupted at iteration \" + i)\n",
    "    finally: \n",
    "        return walk \n"
   ]
  },
  {
   "cell_type": "markdown",
   "metadata": {},
   "source": [
    "### Problem 3"
   ]
  },
  {
   "cell_type": "code",
   "execution_count": null,
   "metadata": {},
   "outputs": [],
   "source": [
    "class ContentFilter(object): \n",
    "    # open() might raise a FileNotFoundError, a TypeError, or an OSError. \n",
    "    def __init__(self, filename): \n",
    "    \n",
    "        try: \n",
    "            with open(self.filename, 'r') as file: \n",
    "                self.contents = file.read().split('\\n')\n",
    "        except Exception: \n",
    "            filename = input(\"Please enter a valid file name: \")\n",
    "            contentFilter(filename)\n",
    "    \n",
    "        return filename \n",
    "        return contents "
   ]
  },
  {
   "cell_type": "code",
   "execution_count": null,
   "metadata": {},
   "outputs": [],
   "source": [
    "cf = ContentFilter(\"cf_example.txt\")"
   ]
  },
  {
   "cell_type": "markdown",
   "metadata": {},
   "source": [
    "### Problem 4"
   ]
  },
  {
   "cell_type": "code",
   "execution_count": 10,
   "metadata": {},
   "outputs": [],
   "source": [
    "class ContentFilter(object): \n",
    "    # open() might raise a FileNotFoundError, a TypeError, or an OSError. \n",
    "    # write() might raise a ValueError if file acess mode is not 'w', 'x', or 'a'\n",
    "    \n",
    "    def __init__(self, filename): \n",
    "        self.filename = filename\n",
    "        try: \n",
    "            with open(self.filename, 'r') as file: \n",
    "                self.contents = file.read().split('\\n')\n",
    "        except Exception: \n",
    "            filename = input(\"Please enter a valid file name: \")\n",
    "            contentFilter(filename)\n",
    "    \n",
    "    def __str__(): \n",
    "        print(\"Source file: \\t<\" + filename + \">\")\n",
    "        print(\"Total characters: \\t<\" + count(read(filename)) + \">\")\n",
    "        print(\"Alphabetic characters: \\t<\" + sum([s.isalpha() for s in lines]) + \">\")\n",
    "        print(\"Numerical characters: \\t<\" + sum([s.isnumber() for s in lines]) + \">\")\n",
    "        print(\"Whitespace characters: \\t<\", sum([s.isspace() for s in lines])+ \">\")\n",
    "        print(\"Number of lines: \\t<\" + count(readlines(filename)) + \">\") \n",
    "    \n",
    "    def uniform(self, contents, case = \"upper\", mode ='w'): \n",
    "        contents = input()\n",
    "        if mode not in ['w', 'x', 'a']: \n",
    "            raise ValueError(\"Mode is not 'w' 'x' or 'a'. \")\n",
    "        if case == \"upper\": \n",
    "            with open(filename, mode) as outfile: \n",
    "                outfile.write(contents).upper()\n",
    "        elif case == \"lower\": \n",
    "            with open(filename, mode) as outfile: \n",
    "                outfile.write(contents, end=\"\\n\").lower()\n",
    "        else: \n",
    "            raise ValueError(\"Input case is not upper or lower.\")\n",
    "    \n",
    "    def reverse(self, unit = \"line\", mode = 'w'): \n",
    "        if mode not in ['w', 'x', 'a']: \n",
    "            raise ValueError(\"Mode is not 'w' 'x' or 'a'. \")\n",
    "        if unit not in ['line', 'word']: \n",
    "            raise ValueError(\"Case is not 'line' or 'word'. \")\n",
    "        with open(filename, mode) as outfile: \n",
    "            if unit == \"word\": \n",
    "                outfile.writelines([line[::-1] for line in contents], end = \"\\n\")\n",
    "            elif unit == \"line\": \n",
    "                for i in range(len(self.contents)): \n",
    "                    outfile.write(self.contents[::-1][i] + \"\\n\")\n",
    "    \n",
    "    def transpose(self, filename, mode = 'w'): \n",
    "        if mode not in ['w', 'x', 'a']: \n",
    "            raise ValueError(\"Mode is not 'w' 'x' or 'a'. \")\n",
    "        with open(filename, mode) as newfile: \n",
    "            try: \n",
    "                for i in range(len(self.contents[0].split())): \n",
    "                    new_line = []\n",
    "                \n",
    "                    for j in range(len(self.contents)): \n",
    "                        content = self.contents[j].split()\n",
    "                        new_line.append(content[i])\n",
    "                    newfile.write(\" \".join(new_line) + \"\\n\")\n",
    "            except Exception as e: \n",
    "                raise ValueError(e) "
   ]
  },
  {
   "cell_type": "code",
   "execution_count": 11,
   "metadata": {},
   "outputs": [],
   "source": [
    "with open('cf_example1.txt', 'w') as outfile: \n",
    "    outfile.write('A b C d E f')"
   ]
  },
  {
   "cell_type": "code",
   "execution_count": 12,
   "metadata": {},
   "outputs": [],
   "source": [
    "with open('cf_example1.txt', 'r') as outfile: \n",
    "    lines = outfile.readlines()"
   ]
  },
  {
   "cell_type": "code",
   "execution_count": 13,
   "metadata": {},
   "outputs": [
    {
     "data": {
      "text/plain": [
       "['f E d C b A']"
      ]
     },
     "execution_count": 13,
     "metadata": {},
     "output_type": "execute_result"
    }
   ],
   "source": [
    "[line[::-1] for line in lines]   # reverse "
   ]
  },
  {
   "cell_type": "code",
   "execution_count": 14,
   "metadata": {},
   "outputs": [
    {
     "data": {
      "text/plain": [
       "0"
      ]
     },
     "execution_count": 14,
     "metadata": {},
     "output_type": "execute_result"
    }
   ],
   "source": [
    "sum([s.isspace() for s in lines]) # check if there is any space or tab"
   ]
  },
  {
   "cell_type": "code",
   "execution_count": 15,
   "metadata": {},
   "outputs": [],
   "source": [
    "cf = ContentFilter(\"cf_example1.txt\")"
   ]
  },
  {
   "cell_type": "code",
   "execution_count": null,
   "metadata": {},
   "outputs": [],
   "source": [
    "print(cf)"
   ]
  },
  {
   "cell_type": "code",
   "execution_count": null,
   "metadata": {},
   "outputs": [],
   "source": [
    "cf.uniform(\"uniform.txt\", mode='w', case='upper')"
   ]
  },
  {
   "cell_type": "code",
   "execution_count": null,
   "metadata": {},
   "outputs": [],
   "source": [
    "cf.reverse(\"reverse.txt\", mode='a', unit='word')"
   ]
  },
  {
   "cell_type": "code",
   "execution_count": null,
   "metadata": {},
   "outputs": [],
   "source": [
    "cf.transpose(\"transpose.txt\", mode='w')"
   ]
  }
 ],
 "metadata": {
  "kernelspec": {
   "display_name": "Python 3",
   "language": "python",
   "name": "python3"
  },
  "language_info": {
   "codemirror_mode": {
    "name": "ipython",
    "version": 3
   },
   "file_extension": ".py",
   "mimetype": "text/x-python",
   "name": "python",
   "nbconvert_exporter": "python",
   "pygments_lexer": "ipython3",
   "version": "3.7.3"
  }
 },
 "nbformat": 4,
 "nbformat_minor": 2
}
