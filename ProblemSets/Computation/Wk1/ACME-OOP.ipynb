{
 "cells": [
  {
   "cell_type": "markdown",
   "metadata": {},
   "source": [
    "## Computation ACME-OOP\n",
    "### 3. Object Oriented Programming \n",
    "\n",
    "* July 2, 2019\n",
    "* Sherry Peng Tian "
   ]
  },
  {
   "cell_type": "markdown",
   "metadata": {},
   "source": [
    "### Problem 1"
   ]
  },
  {
   "cell_type": "code",
   "execution_count": 1,
   "metadata": {},
   "outputs": [],
   "source": [
    "class Backpack(): \n",
    "    # Attributes: \n",
    "    \n",
    "    def __init__(self, name, color, max_size=5): \n",
    "        self.name = name\n",
    "        self.color = color\n",
    "        self.max_size = max_size\n",
    "        self.contents = []\n",
    "    \n",
    "    \n",
    "    def put(self, item): \n",
    "        max_size = 5\n",
    "        # Add 'item' to the backpack's list of contents. \n",
    "        if max_size > 5: \n",
    "            print(\"No Room!\")\n",
    "\n",
    "        else: \n",
    "            self.contents.append(item) # not just 'contents'\n",
    "        \n",
    "    def take(self, item): \n",
    "        # Remove 'item' from the backpack's list of contents. \n",
    "        self.contents.remove(item)\n",
    "        \n",
    "    def dump(self): \n",
    "        self.contents = []\n",
    "        "
   ]
  },
  {
   "cell_type": "code",
   "execution_count": 2,
   "metadata": {},
   "outputs": [],
   "source": [
    "def test_backpack(): \n",
    "    testpack = Backpack(\"Barry\", \"black\")\n",
    "    if testpack.name != \"Barry\": \n",
    "        print(\"Backpack.name assigned incorrrectly. \")\n",
    "    for item in [\"pencil\", \"pen\", \"paper\", \"computer\"]: \n",
    "        testpack.put(item)\n",
    "    print(\"Contents: \", testpack.contents)"
   ]
  },
  {
   "cell_type": "code",
   "execution_count": 3,
   "metadata": {},
   "outputs": [
    {
     "data": {
      "text/plain": [
       "[]"
      ]
     },
     "execution_count": 3,
     "metadata": {},
     "output_type": "execute_result"
    }
   ],
   "source": [
    "my_backpack = Backpack(\"Barry\", \"black\")\n",
    "my_backpack.contents"
   ]
  },
  {
   "cell_type": "code",
   "execution_count": 4,
   "metadata": {},
   "outputs": [
    {
     "name": "stdout",
     "output_type": "stream",
     "text": [
      "Contents:  ['pencil', 'pen', 'paper', 'computer']\n"
     ]
    }
   ],
   "source": [
    "test_backpack()"
   ]
  },
  {
   "cell_type": "markdown",
   "metadata": {},
   "source": [
    "### Problem 2"
   ]
  },
  {
   "cell_type": "code",
   "execution_count": 22,
   "metadata": {},
   "outputs": [],
   "source": [
    "class Jetpack(Backpack): \n",
    "    # This object class inherits from the Backpack class. \n",
    "    def __init__(self, name, color, fuel=10, max_size=2): \n",
    "        Backpack.__init__(self, name, color, max_size)\n",
    "        self.fuel = fuel\n",
    "        self.closed = True\n",
    "    \n",
    "    \n",
    "    def fly(self, burn): \n",
    "        fuel = 10\n",
    "        while fuel > 0: \n",
    "            fuel -= int(burn)\n",
    "        if fuel <= 0: \n",
    "            return (\"Not enough fuel!\") \n",
    "    \n",
    "    def dump(self): \n",
    "        self.contents = []\n",
    "        self.fuel = 0"
   ]
  },
  {
   "cell_type": "code",
   "execution_count": 23,
   "metadata": {
    "scrolled": true
   },
   "outputs": [
    {
     "ename": "TypeError",
     "evalue": "object.__init__() takes exactly one argument (the instance to initialize)",
     "output_type": "error",
     "traceback": [
      "\u001b[0;31m---------------------------------------------------------------------------\u001b[0m",
      "\u001b[0;31mTypeError\u001b[0m                                 Traceback (most recent call last)",
      "\u001b[0;32m<ipython-input-23-74eaa7c7b996>\u001b[0m in \u001b[0;36m<module>\u001b[0;34m\u001b[0m\n\u001b[0;32m----> 1\u001b[0;31m \u001b[0mmy_jetpack\u001b[0m \u001b[0;34m=\u001b[0m \u001b[0mJetpack\u001b[0m\u001b[0;34m(\u001b[0m\u001b[0;34m\"Brady\"\u001b[0m\u001b[0;34m,\u001b[0m \u001b[0;34m\"brown\"\u001b[0m\u001b[0;34m)\u001b[0m\u001b[0;34m\u001b[0m\u001b[0;34m\u001b[0m\u001b[0m\n\u001b[0m",
      "\u001b[0;32m<ipython-input-22-a3cfe5db8c27>\u001b[0m in \u001b[0;36m__init__\u001b[0;34m(self, name, color, fuel, max_size)\u001b[0m\n\u001b[1;32m      2\u001b[0m     \u001b[0;31m# This object class inherits from the Backpack class.\u001b[0m\u001b[0;34m\u001b[0m\u001b[0;34m\u001b[0m\u001b[0;34m\u001b[0m\u001b[0m\n\u001b[1;32m      3\u001b[0m     \u001b[0;32mdef\u001b[0m \u001b[0m__init__\u001b[0m\u001b[0;34m(\u001b[0m\u001b[0mself\u001b[0m\u001b[0;34m,\u001b[0m \u001b[0mname\u001b[0m\u001b[0;34m,\u001b[0m \u001b[0mcolor\u001b[0m\u001b[0;34m,\u001b[0m \u001b[0mfuel\u001b[0m\u001b[0;34m=\u001b[0m\u001b[0;36m10\u001b[0m\u001b[0;34m,\u001b[0m \u001b[0mmax_size\u001b[0m\u001b[0;34m=\u001b[0m\u001b[0;36m2\u001b[0m\u001b[0;34m)\u001b[0m\u001b[0;34m:\u001b[0m\u001b[0;34m\u001b[0m\u001b[0;34m\u001b[0m\u001b[0m\n\u001b[0;32m----> 4\u001b[0;31m         \u001b[0mBackpack\u001b[0m\u001b[0;34m.\u001b[0m\u001b[0m__init__\u001b[0m\u001b[0;34m(\u001b[0m\u001b[0mself\u001b[0m\u001b[0;34m,\u001b[0m \u001b[0mname\u001b[0m\u001b[0;34m,\u001b[0m \u001b[0mcolor\u001b[0m\u001b[0;34m,\u001b[0m \u001b[0mmax_size\u001b[0m\u001b[0;34m)\u001b[0m\u001b[0;34m\u001b[0m\u001b[0;34m\u001b[0m\u001b[0m\n\u001b[0m\u001b[1;32m      5\u001b[0m         \u001b[0mself\u001b[0m\u001b[0;34m.\u001b[0m\u001b[0mfuel\u001b[0m \u001b[0;34m=\u001b[0m \u001b[0mfuel\u001b[0m\u001b[0;34m\u001b[0m\u001b[0;34m\u001b[0m\u001b[0m\n\u001b[1;32m      6\u001b[0m         \u001b[0mself\u001b[0m\u001b[0;34m.\u001b[0m\u001b[0mclosed\u001b[0m \u001b[0;34m=\u001b[0m \u001b[0;32mTrue\u001b[0m\u001b[0;34m\u001b[0m\u001b[0;34m\u001b[0m\u001b[0m\n",
      "\u001b[0;31mTypeError\u001b[0m: object.__init__() takes exactly one argument (the instance to initialize)"
     ]
    }
   ],
   "source": [
    "my_jetpack = Jetpack(\"Brady\", \"brown\")"
   ]
  },
  {
   "cell_type": "markdown",
   "metadata": {},
   "source": [
    "### Problem 3 "
   ]
  },
  {
   "cell_type": "code",
   "execution_count": 7,
   "metadata": {},
   "outputs": [],
   "source": [
    "class Backpack: \n",
    "    def __eq__(self, other): \n",
    "        return self.contents == other.contents\n",
    "    \n",
    "    def __str__(self): \n",
    "        return print(\n",
    "        \"Owner: <\" + str(self.name) + \">\\nColor: <\"\n",
    "        + str(self.color) + \">\\nSize: <\" + str(len(self.contents))\n",
    "        + \">\\nMax Size: <\" + str(self.max_size) + \">\\nContents: \"\n",
    "        + str(self.contents))"
   ]
  },
  {
   "cell_type": "code",
   "execution_count": 8,
   "metadata": {},
   "outputs": [
    {
     "name": "stdout",
     "output_type": "stream",
     "text": [
      "Owner: <Barry>\n",
      "Color: <black>\n",
      "Size: <0>\n",
      "Max Size: <5>\n",
      "Contents: []\n"
     ]
    }
   ],
   "source": [
    "Backpack.__str__(my_backpack)"
   ]
  },
  {
   "cell_type": "markdown",
   "metadata": {},
   "source": [
    "### Problem 4"
   ]
  },
  {
   "cell_type": "markdown",
   "metadata": {},
   "source": [
    "Complex numbers are denoted $a+bi$ where $a,b \\in R$ and $i = \\sqrt-1$. \n",
    "Complex conjugate of $a+b*i$ is defined as $\\overline{ a+bi} = a-bi$. "
   ]
  },
  {
   "cell_type": "code",
   "execution_count": 38,
   "metadata": {},
   "outputs": [],
   "source": [
    "class ComplexNumber(object): \n",
    "    \"\"\"\n",
    "    Complex numbers are denoted like above\n",
    "    \"\"\"\n",
    "    def __init__(self, a, b): \n",
    "        self.real = a\n",
    "        self.imag = b\n",
    "    \n",
    "    def conjugate(self): \n",
    "        return self.real - self.imag*(-1)**(1/2)\n",
    "    \n",
    "    def __str__(self): \n",
    "        if self.imag >= 0: \n",
    "            return (self.real + self.imag*(-1)**(1/2))\n",
    "        else: \n",
    "            return (self.real - self.imag*(-1)**(1/2))\n",
    "    \n",
    "    def __abs__(self, other): \n",
    "        return math.sqrt(self.real ** 2 + self.imag ** 2)\n",
    "\n",
    "    def __eq__(self, other): \n",
    "        return (self.real == other.real) and (self.imag == other.imag)\n",
    "                         \n",
    "    def __add__(self, other): \n",
    "        real = self.real + other.real\n",
    "        imag = self.imag + other.imag \n",
    "        return ComplexNumber(real, imag)\n",
    "    \n",
    "    def __sub__(self, other): \n",
    "        real = self.real - other.real\n",
    "        imag = self.imag - other.imag\n",
    "        return ComplexNumber(real, imag)\n",
    "    \n",
    "    def __mul__(self, other): \n",
    "        real = self.real*other.real - self.imag*other.imag\n",
    "        imag = self.imag*other.real + other.imag*self.real\n",
    "        return ComplexNumber(real, imag)\n",
    "    \n",
    "    def __truediv__(self, other): \n",
    "        t = self*other.conjugate()\n",
    "        b = (other*other.conjugate()).real\n",
    "        res = ComplexNumber(t.real / b, t.imag/b)\n",
    "        return res"
   ]
  },
  {
   "cell_type": "code",
   "execution_count": 39,
   "metadata": {},
   "outputs": [],
   "source": [
    "def test_ComplexNumber(a,b): \n",
    "    py_cnum, my_cnum = complex(a,b), ComplexNumber(a,b)\n",
    "    \n",
    "    # Validate the constructor. \n",
    "    if my_cnum.real != a or my_cnum.imag != b: \n",
    "        print(\"__init__() set self.real and self.imag incorrectly.\")\n",
    "        \n",
    "    # Validate conugate() by checking the new number's imag attributes. \n",
    "    if py_cnum.conjugate().imag != my_cnum.conjugate().imag: \n",
    "        print(\"conjugate() failed for\", py_cnum)\n",
    "    \n",
    "    # Validate __str__(). \n",
    "    if str(py_cnum) != str(my_cnum): \n",
    "        print(\"__str__() failed for\", py_cnum)\n",
    "        if str(py_cnum) != str(my_cnum): \n",
    "            print(\"__str__() failed for \", py_cnum)\n",
    "    print(my_cnum - my_cnum)\n",
    "    print(my_cnum * my_cnum)\n",
    "    print(my_cnum - my_cnum)\n",
    "    print(abs(my_cnum))\n",
    "    print(my_cnum == py_cnum)"
   ]
  },
  {
   "cell_type": "markdown",
   "metadata": {},
   "source": [
    "### Hashing"
   ]
  },
  {
   "cell_type": "code",
   "execution_count": null,
   "metadata": {},
   "outputs": [],
   "source": [
    "class Backpack: \n",
    "    def __hash__(self): \n",
    "        return hash(self.name) ^ hash(self.color) ^ hash(len(self.contents))"
   ]
  }
 ],
 "metadata": {
  "kernelspec": {
   "display_name": "Python 3",
   "language": "python",
   "name": "python3"
  },
  "language_info": {
   "codemirror_mode": {
    "name": "ipython",
    "version": 3
   },
   "file_extension": ".py",
   "mimetype": "text/x-python",
   "name": "python",
   "nbconvert_exporter": "python",
   "pygments_lexer": "ipython3",
   "version": "3.7.3"
  }
 },
 "nbformat": 4,
 "nbformat_minor": 2
}
