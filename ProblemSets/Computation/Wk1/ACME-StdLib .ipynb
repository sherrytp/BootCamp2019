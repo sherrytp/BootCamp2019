{
 "cells": [
  {
   "cell_type": "markdown",
   "metadata": {},
   "source": [
    "## Computation ACME-StdLib\n",
    "### 2. The Standard Library "
   ]
  },
  {
   "cell_type": "markdown",
   "metadata": {},
   "source": [
    "### Problem 1"
   ]
  },
  {
   "cell_type": "code",
   "execution_count": 1,
   "metadata": {},
   "outputs": [],
   "source": [
    "def descriptive(l): \n",
    "    small = min(l)\n",
    "    large = max(l)\n",
    "    mean = sum(l)/len(l)\n",
    "    \n",
    "    return small, large, mean "
   ]
  },
  {
   "cell_type": "code",
   "execution_count": 2,
   "metadata": {},
   "outputs": [
    {
     "data": {
      "text/plain": [
       "(2, 8, 5.0)"
      ]
     },
     "execution_count": 2,
     "metadata": {},
     "output_type": "execute_result"
    }
   ],
   "source": [
    "descriptive([2,3,5,7,8])"
   ]
  },
  {
   "cell_type": "markdown",
   "metadata": {},
   "source": [
    "### Exercise 2 "
   ]
  },
  {
   "cell_type": "code",
   "execution_count": 3,
   "metadata": {},
   "outputs": [
    {
     "name": "stdout",
     "output_type": "stream",
     "text": [
      "{'moly': 2.13, 'hand_grenade': 3.21, 'grail': 2113.69}\n"
     ]
    }
   ],
   "source": [
    "holy = {\"moly\": 1.99, \"hand_grenade\": 3, \"grail\": 1975.41}\n",
    "tax_prices = holy \n",
    "\n",
    "for item, price in tax_prices.items(): \n",
    "    # add \n",
    "    tax_prices[item] = round(1.07 * price, 2)\n",
    "\n",
    "print(tax_prices)"
   ]
  },
  {
   "cell_type": "code",
   "execution_count": 4,
   "metadata": {},
   "outputs": [
    {
     "name": "stdout",
     "output_type": "stream",
     "text": [
      "{'moly': 2.13, 'hand_grenade': 3.21, 'grail': 2113.69}\n",
      "{'moly': 1.99, 'hand_grenade': 3, 'grail': 1975.41}\n"
     ]
    }
   ],
   "source": [
    "# But dictionaries are mutable \n",
    "holy = {\"moly\": 1.99, \"hand_grenade\": 3, \"grail\": 1975.41}\n",
    "tax_prices = dict(holy)\n",
    "\n",
    "for item, price in tax_prices.items(): \n",
    "    # add \n",
    "    tax_prices[item] = round(1.07 * price, 2)\n",
    "\n",
    "print(tax_prices)\n",
    "print(holy)"
   ]
  },
  {
   "cell_type": "markdown",
   "metadata": {},
   "source": [
    "### Problem 2 "
   ]
  },
  {
   "cell_type": "code",
   "execution_count": 5,
   "metadata": {},
   "outputs": [],
   "source": [
    "my_int = int(5)\n",
    "my_str = str(\"5\")\n",
    "my_list = [1,2,3]\n",
    "my_tuple = (1,2,3)\n",
    "my_set = set(my_list)"
   ]
  },
  {
   "cell_type": "code",
   "execution_count": 6,
   "metadata": {},
   "outputs": [],
   "source": [
    "ur_int = my_int\n",
    "ur_str = my_str\n",
    "ur_list = my_list\n",
    "ur_tuple = my_tuple\n",
    "ur_set = my_set"
   ]
  },
  {
   "cell_type": "code",
   "execution_count": 7,
   "metadata": {},
   "outputs": [
    {
     "data": {
      "text/plain": [
       "False"
      ]
     },
     "execution_count": 7,
     "metadata": {},
     "output_type": "execute_result"
    }
   ],
   "source": [
    "my_int += 1\n",
    "my_int == ur_int"
   ]
  },
  {
   "cell_type": "code",
   "execution_count": 8,
   "metadata": {},
   "outputs": [
    {
     "data": {
      "text/plain": [
       "False"
      ]
     },
     "execution_count": 8,
     "metadata": {},
     "output_type": "execute_result"
    }
   ],
   "source": [
    "my_str += \"hey\"\n",
    "my_str == ur_str"
   ]
  },
  {
   "cell_type": "code",
   "execution_count": 9,
   "metadata": {},
   "outputs": [
    {
     "data": {
      "text/plain": [
       "True"
      ]
     },
     "execution_count": 9,
     "metadata": {},
     "output_type": "execute_result"
    }
   ],
   "source": [
    "my_list.append(5)\n",
    "my_list == ur_list\n",
    "# list is a mutable type "
   ]
  },
  {
   "cell_type": "code",
   "execution_count": 10,
   "metadata": {},
   "outputs": [
    {
     "ename": "TypeError",
     "evalue": "'tuple' object does not support item assignment",
     "output_type": "error",
     "traceback": [
      "\u001b[0;31m---------------------------------------------------------------------------\u001b[0m",
      "\u001b[0;31mTypeError\u001b[0m                                 Traceback (most recent call last)",
      "\u001b[0;32m<ipython-input-10-c532bfc32a8d>\u001b[0m in \u001b[0;36m<module>\u001b[0;34m\u001b[0m\n\u001b[0;32m----> 1\u001b[0;31m \u001b[0mmy_tuple\u001b[0m\u001b[0;34m[\u001b[0m\u001b[0;36m0\u001b[0m\u001b[0;34m]\u001b[0m \u001b[0;34m=\u001b[0m \u001b[0;36m5\u001b[0m\u001b[0;34m\u001b[0m\u001b[0;34m\u001b[0m\u001b[0m\n\u001b[0m\u001b[1;32m      2\u001b[0m \u001b[0mmy_tuple\u001b[0m \u001b[0;34m==\u001b[0m \u001b[0mur_tuple\u001b[0m\u001b[0;34m\u001b[0m\u001b[0;34m\u001b[0m\u001b[0m\n\u001b[1;32m      3\u001b[0m \u001b[0;31m# error not support\u001b[0m\u001b[0;34m\u001b[0m\u001b[0;34m\u001b[0m\u001b[0;34m\u001b[0m\u001b[0m\n",
      "\u001b[0;31mTypeError\u001b[0m: 'tuple' object does not support item assignment"
     ]
    }
   ],
   "source": [
    "my_tuple[0] = 5\n",
    "my_tuple == ur_tuple\n",
    "# error not support "
   ]
  },
  {
   "cell_type": "code",
   "execution_count": 11,
   "metadata": {},
   "outputs": [
    {
     "data": {
      "text/plain": [
       "False"
      ]
     },
     "execution_count": 11,
     "metadata": {},
     "output_type": "execute_result"
    }
   ],
   "source": [
    "my_set = (4,5,6)\n",
    "my_set == ur_set"
   ]
  },
  {
   "cell_type": "markdown",
   "metadata": {},
   "source": [
    "### Problem 3"
   ]
  },
  {
   "cell_type": "code",
   "execution_count": 12,
   "metadata": {},
   "outputs": [],
   "source": [
    "# module called calculator.py \n",
    "\n",
    "def addup(a, b): \n",
    "    return a+b\n",
    "\n",
    "def product(a, b): \n",
    "    return a*b"
   ]
  },
  {
   "cell_type": "code",
   "execution_count": 13,
   "metadata": {},
   "outputs": [
    {
     "data": {
      "text/plain": [
       "5.0"
      ]
     },
     "execution_count": 13,
     "metadata": {},
     "output_type": "execute_result"
    }
   ],
   "source": [
    "from math import sqrt \n",
    "\n",
    "def triangle(x, y): \n",
    "    length = sqrt(addup(product(x,x), product(y,y)))\n",
    "    return length\n",
    "triangle(3,4)"
   ]
  },
  {
   "cell_type": "code",
   "execution_count": 14,
   "metadata": {},
   "outputs": [
    {
     "name": "stdout",
     "output_type": "stream",
     "text": [
      "The Zen of Python, by Tim Peters\n",
      "\n",
      "Beautiful is better than ugly.\n",
      "Explicit is better than implicit.\n",
      "Simple is better than complex.\n",
      "Complex is better than complicated.\n",
      "Flat is better than nested.\n",
      "Sparse is better than dense.\n",
      "Readability counts.\n",
      "Special cases aren't special enough to break the rules.\n",
      "Although practicality beats purity.\n",
      "Errors should never pass silently.\n",
      "Unless explicitly silenced.\n",
      "In the face of ambiguity, refuse the temptation to guess.\n",
      "There should be one-- and preferably only one --obvious way to do it.\n",
      "Although that way may not be obvious at first unless you're Dutch.\n",
      "Now is better than never.\n",
      "Although never is often better than *right* now.\n",
      "If the implementation is hard to explain, it's a bad idea.\n",
      "If the implementation is easy to explain, it may be a good idea.\n",
      "Namespaces are one honking great idea -- let's do more of those!\n"
     ]
    }
   ],
   "source": [
    "import this"
   ]
  },
  {
   "cell_type": "code",
   "execution_count": 15,
   "metadata": {},
   "outputs": [],
   "source": [
    "import antigravity"
   ]
  },
  {
   "cell_type": "markdown",
   "metadata": {},
   "source": [
    "> Use run instead of import to correctly refresh the namespace, because when a module has been imported in iPython, using import again does not refresh the namespace. "
   ]
  },
  {
   "cell_type": "markdown",
   "metadata": {},
   "source": [
    "> Any code under an \n",
    "``` \n",
    "if __name__ == '__main__' \n",
    "```\n",
    "cause will only be executed when the file is run (not when it is imported). "
   ]
  },
  {
   "cell_type": "markdown",
   "metadata": {},
   "source": [
    "### Problem 4"
   ]
  },
  {
   "cell_type": "code",
   "execution_count": 20,
   "metadata": {},
   "outputs": [],
   "source": [
    "import sympy as sy\n",
    "from itertools import combinations \n",
    "A, a, b, c = sy.symbols('A,a,b,c')\n",
    "A = set([a,b,c])"
   ]
  },
  {
   "cell_type": "code",
   "execution_count": 17,
   "metadata": {},
   "outputs": [],
   "source": [
    "def powerset(a): \n",
    "    b = []\n",
    "    b.append(list(itertools.combinations(a, 0)))\n",
    "    b.append(list(itertools.combinations(a, 1)))\n",
    "    b.append(list(itertools.combinations(a,2)))\n",
    "    b.append(list(itertools.combinations(a,3)))\n",
    "    return b "
   ]
  },
  {
   "cell_type": "code",
   "execution_count": 21,
   "metadata": {},
   "outputs": [],
   "source": [
    "def power_set(a): \n",
    "    power = {()}\n",
    "    for i in range(len(a)): \n",
    "        power = power.union(set(combinations(a, i+1)))\n",
    "    return power"
   ]
  },
  {
   "cell_type": "code",
   "execution_count": 24,
   "metadata": {},
   "outputs": [
    {
     "name": "stdout",
     "output_type": "stream",
     "text": [
      "Power set of A: \n",
      "{(1, 2), (), (1, 3), (2, 3), (1,), (2,), (3,), (1, 2, 3)}\n"
     ]
    }
   ],
   "source": [
    "A = {1, 2, 3}\n",
    "print(\"Power set of A: \", power_set(A), sep = \"\\n\")"
   ]
  },
  {
   "cell_type": "markdown",
   "metadata": {},
   "source": [
    "### Problem 5"
   ]
  },
  {
   "cell_type": "markdown",
   "metadata": {},
   "source": [
    "Shut the box \n",
    "starts with number 1 to 9, to eliminate as many of these numbers as possible. [demostrantion](http://www.youtube.com/watch?v=vL1ZGBQ6TKs)"
   ]
  },
  {
   "cell_type": "code",
   "execution_count": 19,
   "metadata": {},
   "outputs": [
    {
     "name": "stdout",
     "output_type": "stream",
     "text": [
      "Please enter your name: sher\n"
     ]
    }
   ],
   "source": [
    "# File name = shutbox.py\n",
    "player_name = input(\"Please enter your name: \")\n",
    "import time \n",
    "\n",
    "def time_for_loop(): \n",
    "    start = time.time()\n",
    "    \n",
    "    end = time.time()\n",
    "    return end - start "
   ]
  },
  {
   "cell_type": "code",
   "execution_count": null,
   "metadata": {},
   "outputs": [],
   "source": [
    "def game(player_name, t): \n",
    "    remaining = list(range(1, 10))\n",
    "    flag = True \n",
    "    \n",
    "    while flag & (len(time_for_loop)>0): \n",
    "        if not box.isvalid(r, time_for_loop): \n",
    "            flag = False\n",
    "        else: \n",
    "            \n",
    "def check_game(player_name, t, dice, num = [x for x in range(1,10)]): \n",
    "    # Roll the dice \n",
    "    import random \n",
    "    \n",
    "    dice1 = random.randint(1,6)\n",
    "    if sum(num) <= 6: \n",
    "        dice2 = 0\n",
    "    else: \n",
    "        dice2 = random.randint(1,6)\n",
    "    roll = dice1 + dice2\n",
    "    \n",
    "    remaining = list(range(1, 10))\n",
    "    flag = True \n",
    "    \n",
    "    while flag & (len(time_for_loop)>0): \n",
    "        if not box.isvalid(r, time_for_loop): \n",
    "            flag = False\n",
    "        else: \n",
    "    \n",
    "            print(\"Numbers left: [\"+ num + \"]\")\n",
    "            print(\"Roll: \"+ roll)\n",
    "    # Second \n",
    "    \n",
    "            pick = input(\"Numbers to eliminate: \")\n",
    "            if pick != int: \n",
    "                print(\"Must enter a number\")\n",
    "            pick = input(\"Numbers to eliminate: \")\n",
    "\n",
    "            num = num.remove(int(input))\n",
    "    \n",
    "\n",
    "    if time_for_loop == 0: \n",
    "        print(\"Game over! Better luck next time >:\")\n",
    "    \n",
    "    if pick != roll: \n",
    "        print(\"Invalid input. Numbers don't sum to the roll.\")\n",
    "        print(\"Game over! Better luck next time >:\")\n",
    "    \n",
    "    if sum(num) < roll: \n",
    "        print(\"Numbers cannot match roll.\")\n",
    "        print(\"Game over! Better luck next time >:\")\n",
    "    \n",
    "    print(\"Time played: \")\n",
    "    print(\"Congratulations! You shut the box!\")\n",
    "    print(\"Thank you for playing.\")\n",
    "    \n",
    "    if __name__ ==\"__main__\": \n",
    "        if len(sys.argv) != 3: \n",
    "            print(\"Input not correct.\")\n",
    "        else: \n",
    "            name = sys.argv[1]\n",
    "            check_game(player_name, t)"
   ]
  }
 ],
 "metadata": {
  "kernelspec": {
   "display_name": "Python 3",
   "language": "python",
   "name": "python3"
  },
  "language_info": {
   "codemirror_mode": {
    "name": "ipython",
    "version": 3
   },
   "file_extension": ".py",
   "mimetype": "text/x-python",
   "name": "python",
   "nbconvert_exporter": "python",
   "pygments_lexer": "ipython3",
   "version": "3.7.3"
  }
 },
 "nbformat": 4,
 "nbformat_minor": 2
}
