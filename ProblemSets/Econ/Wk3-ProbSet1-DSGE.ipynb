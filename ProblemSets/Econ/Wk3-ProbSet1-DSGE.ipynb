{
 "cells": [
  {
   "cell_type": "markdown",
   "metadata": {},
   "source": [
    "# General DSGE\n",
    "\n",
    "> How to rename the equations as euler and seperate better? \n",
    "\n",
    "* SP Tian \n",
    "* July 19, 2019"
   ]
  },
  {
   "cell_type": "code",
   "execution_count": 1,
   "metadata": {},
   "outputs": [],
   "source": [
    "import numpy as np\n",
    "import sympy as sy \n",
    "import pandas as py \n",
    "import matplotlib as plt \n",
    "%matplotlib inline\n",
    "\n",
    "import scipy.optimize as opt\n",
    "import scipy.stats as stats\n",
    "from numba import vectorize, jit, njit, float64, prange\n",
    "from sympy.solvers import solve\n",
    "from scipy.optimize import fsolve\n",
    "\n",
    "import matplotlib.pyplot as plt\n",
    "from matplotlib import cm\n",
    "from mpl_toolkits import mplot3d \n",
    "from mpl_toolkits.mplot3d import Axes3D\n",
    "\n",
    "#from rouwen import rouwen\n",
    "from LinApp_FindSS import LinApp_FindSS\n",
    "from LinApp_Deriv import LinApp_Deriv\n",
    "from LinApp_Solve import LinApp_Solve"
   ]
  },
  {
   "cell_type": "markdown",
   "metadata": {},
   "source": [
    "### Exercise 5 \n",
    "\n",
    "Since there is no labor/leisure decision, we only need to simply the model retrieved from Chase's example. Using the following functional forms to write out the stready state versions of the following: \n"
   ]
  },
  {
   "cell_type": "markdown",
   "metadata": {},
   "source": [
    "\\begin{align*}\n",
    "  u(c_t) &= \\frac{c_t^{1 - \\gamma} - 1}{1 - \\gamma} \\\\\n",
    "  F(K_t, L_t, z_t) &= K_t^{\\alpha} (L_t e^{z_t})^{1 - \\alpha}\n",
    "\\end{align*}"
   ]
  },
  {
   "cell_type": "code",
   "execution_count": 3,
   "metadata": {},
   "outputs": [],
   "source": [
    "# Set parameters data \n",
    "\n",
    "alpha = 0.4\n",
    "beta = 0.98\n",
    "gamma = 2.50\n",
    "delta = 0.10\n",
    "tha = 0.05\n",
    "\n",
    "#chi = \n",
    "#theta = \n",
    "#rho = 2.5\n",
    "#zbar = 0\n",
    "#params = np.array([alpha, beta, gamma, delta, rho, tha, zbar])"
   ]
  },
  {
   "cell_type": "code",
   "execution_count": 6,
   "metadata": {},
   "outputs": [],
   "source": [
    "def euler_eq(x, k): \n",
    "    l = 1\n",
    "    r = x.alpha * ((np.exp(x.zbar) / k) ** (1 - m.alpha))\n",
    "    w = (1 - x.alpha) * np.exp(x.zbar) * ((k / np.exp(x.zbar)) ** x.alpha)\n",
    "    T = x.tha * (w + (r - x.delta) * k) \n",
    "    c = (1 - x.tha) * (w + (r - x.delta)*k) + T \n",
    "    euler = 1/(c ** x.gamma) - (x.beta / (c ** x.gamma)) * ((r - x.delta) * (1 - x.tha) + 1)"
   ]
  },
  {
   "cell_type": "code",
   "execution_count": 5,
   "metadata": {},
   "outputs": [],
   "source": [
    "# Def nonlinear equations \n",
    "\n",
    "def equations(p): \n",
    "    c,w,r,K,T = p\n",
    "    eq1 = (w + (r-delta)*K)* (1-tha) + T - c\n",
    "    eq2 = beta*((r - delta)*(1-tha) + 1) - 1\n",
    "    eq3 = r - alpha*K**(alpha - 1)\n",
    "    eq4 = w - K**alpha*(1 - alpha)\n",
    "    eq5 = T / tha - (w + (r - delta)*K)\n",
    "    \n",
    "    return (eq1,eq2,eq3,eq4,eq5)"
   ]
  },
  {
   "cell_type": "code",
   "execution_count": 11,
   "metadata": {},
   "outputs": [
    {
     "data": {
      "text/plain": [
       "(1.4845048188495245,\n",
       " 1.3279527683512735,\n",
       " 0.12148227712137499,\n",
       " 7.28749795069251,\n",
       " 0.07422524094247622)"
      ]
     },
     "execution_count": 11,
     "metadata": {},
     "output_type": "execute_result"
    }
   ],
   "source": [
    "c,w,r,K,T = fsolve(equations, (1,1,1,1,1))\n",
    "c,w,r,K,T"
   ]
  },
  {
   "cell_type": "code",
   "execution_count": 8,
   "metadata": {},
   "outputs": [],
   "source": [
    "KK = (1/beta - 1)/alpha/(1 - tha) + delta/alpha"
   ]
  },
  {
   "cell_type": "code",
   "execution_count": 10,
   "metadata": {},
   "outputs": [
    {
     "data": {
      "text/plain": [
       "0.06847295938646525"
      ]
     },
     "execution_count": 10,
     "metadata": {},
     "output_type": "execute_result"
    }
   ],
   "source": [
    "KK = KK ** (1/alpha - 1)\n",
    "KK"
   ]
  },
  {
   "cell_type": "markdown",
   "metadata": {},
   "source": [
    "### Exercise 6"
   ]
  },
  {
   "cell_type": "code",
   "execution_count": 12,
   "metadata": {},
   "outputs": [],
   "source": [
    "# Set parameters data \n",
    "\n",
    "gamma = 2.5\n",
    "xi = 1.5\n",
    "beta = 0.98\n",
    "alpha = 0.4\n",
    "a = 0.5\n",
    "delta = 0.1\n",
    "tha = 0.05"
   ]
  },
  {
   "cell_type": "code",
   "execution_count": 13,
   "metadata": {},
   "outputs": [],
   "source": [
    "# Def nonlinear equations\n",
    "\n",
    "def equations(p): \n",
    "    c,w,r,K,T,L = p\n",
    "    eq1 = (w*L + (r-delta)*K)* (1-tha) + T - c\n",
    "    eq2 = beta*((r - delta)*(1-tha) + 1) - 1 \n",
    "    eq3 = r - alpha*K**(alpha - 1)*L**(1-alpha)\n",
    "    eq4 = w - K**alpha*L**(-alpha)\n",
    "    eq5 = T / tha - (w*L + (r - delta)*K)\n",
    "    eq6 = a*(1 - L)**(-xi) - w*(1 - tha)*c**(-gamma)\n",
    "    \n",
    "    return (eq1,eq2,eq3,eq4,eq5,eq6)"
   ]
  },
  {
   "cell_type": "code",
   "execution_count": 14,
   "metadata": {},
   "outputs": [
    {
     "data": {
      "text/plain": [
       "(1.1767477492485825,\n",
       " 2.213254614158271,\n",
       " 0.12148227712137497,\n",
       " 3.618669371501886,\n",
       " 0.05883738746242914,\n",
       " 0.4965585442087807)"
      ]
     },
     "execution_count": 14,
     "metadata": {},
     "output_type": "execute_result"
    }
   ],
   "source": [
    "c,w,r,K,T,L = fsolve(equations, (1,2.34,1,1,1,0.1))\n",
    "c,w,r,K,T,L"
   ]
  }
 ],
 "metadata": {
  "kernelspec": {
   "display_name": "Python 3",
   "language": "python",
   "name": "python3"
  },
  "language_info": {
   "codemirror_mode": {
    "name": "ipython",
    "version": 3
   },
   "file_extension": ".py",
   "mimetype": "text/x-python",
   "name": "python",
   "nbconvert_exporter": "python",
   "pygments_lexer": "ipython3",
   "version": "3.7.3"
  }
 },
 "nbformat": 4,
 "nbformat_minor": 2
}
